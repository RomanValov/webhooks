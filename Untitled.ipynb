{
 "cells": [
  {
   "cell_type": "code",
   "execution_count": 1,
   "metadata": {},
   "outputs": [],
   "source": [
    "import sys"
   ]
  },
  {
   "cell_type": "code",
   "execution_count": 2,
   "metadata": {},
   "outputs": [
    {
     "name": "stdout",
     "output_type": "stream",
     "text": [
      "3.7.1 (default, Dec 14 2018, 19:28:38) \n",
      "[GCC 7.3.0]\n"
     ]
    }
   ],
   "source": [
    "print(sys.version)"
   ]
  },
  {
   "cell_type": "code",
   "execution_count": 3,
   "metadata": {},
   "outputs": [],
   "source": [
    "import numpy as np"
   ]
  },
  {
   "cell_type": "code",
   "execution_count": 4,
   "metadata": {},
   "outputs": [],
   "source": [
    "import pandas as pd"
   ]
  },
  {
   "cell_type": "code",
   "execution_count": 5,
   "metadata": {},
   "outputs": [],
   "source": [
    "c_test = pd.read_csv('./mnist_test.csv', header=None)"
   ]
  },
  {
   "cell_type": "code",
   "execution_count": 6,
   "metadata": {},
   "outputs": [],
   "source": [
    "c_train = pd.read_csv('./mnist_train.csv', header=None)"
   ]
  },
  {
   "cell_type": "code",
   "execution_count": 7,
   "metadata": {},
   "outputs": [],
   "source": [
    "cnames = [\"label\"] + ['px_%s.%s' % (x,y) for x in range(28) for y in range(28)]"
   ]
  },
  {
   "cell_type": "code",
   "execution_count": 8,
   "metadata": {},
   "outputs": [
    {
     "data": {
      "text/plain": [
       "['label',\n",
       " 'px_0.0',\n",
       " 'px_0.1',\n",
       " 'px_0.2',\n",
       " 'px_0.3',\n",
       " 'px_0.4',\n",
       " 'px_0.5',\n",
       " 'px_0.6',\n",
       " 'px_0.7',\n",
       " 'px_0.8',\n",
       " 'px_0.9',\n",
       " 'px_0.10',\n",
       " 'px_0.11',\n",
       " 'px_0.12',\n",
       " 'px_0.13',\n",
       " 'px_0.14',\n",
       " 'px_0.15',\n",
       " 'px_0.16',\n",
       " 'px_0.17',\n",
       " 'px_0.18',\n",
       " 'px_0.19',\n",
       " 'px_0.20',\n",
       " 'px_0.21',\n",
       " 'px_0.22',\n",
       " 'px_0.23',\n",
       " 'px_0.24',\n",
       " 'px_0.25',\n",
       " 'px_0.26',\n",
       " 'px_0.27',\n",
       " 'px_1.0',\n",
       " 'px_1.1',\n",
       " 'px_1.2',\n",
       " 'px_1.3',\n",
       " 'px_1.4',\n",
       " 'px_1.5',\n",
       " 'px_1.6',\n",
       " 'px_1.7',\n",
       " 'px_1.8',\n",
       " 'px_1.9',\n",
       " 'px_1.10',\n",
       " 'px_1.11',\n",
       " 'px_1.12',\n",
       " 'px_1.13',\n",
       " 'px_1.14',\n",
       " 'px_1.15',\n",
       " 'px_1.16',\n",
       " 'px_1.17',\n",
       " 'px_1.18',\n",
       " 'px_1.19',\n",
       " 'px_1.20',\n",
       " 'px_1.21',\n",
       " 'px_1.22',\n",
       " 'px_1.23',\n",
       " 'px_1.24',\n",
       " 'px_1.25',\n",
       " 'px_1.26',\n",
       " 'px_1.27',\n",
       " 'px_2.0',\n",
       " 'px_2.1',\n",
       " 'px_2.2',\n",
       " 'px_2.3',\n",
       " 'px_2.4',\n",
       " 'px_2.5',\n",
       " 'px_2.6',\n",
       " 'px_2.7',\n",
       " 'px_2.8',\n",
       " 'px_2.9',\n",
       " 'px_2.10',\n",
       " 'px_2.11',\n",
       " 'px_2.12',\n",
       " 'px_2.13',\n",
       " 'px_2.14',\n",
       " 'px_2.15',\n",
       " 'px_2.16',\n",
       " 'px_2.17',\n",
       " 'px_2.18',\n",
       " 'px_2.19',\n",
       " 'px_2.20',\n",
       " 'px_2.21',\n",
       " 'px_2.22',\n",
       " 'px_2.23',\n",
       " 'px_2.24',\n",
       " 'px_2.25',\n",
       " 'px_2.26',\n",
       " 'px_2.27',\n",
       " 'px_3.0',\n",
       " 'px_3.1',\n",
       " 'px_3.2',\n",
       " 'px_3.3',\n",
       " 'px_3.4',\n",
       " 'px_3.5',\n",
       " 'px_3.6',\n",
       " 'px_3.7',\n",
       " 'px_3.8',\n",
       " 'px_3.9',\n",
       " 'px_3.10',\n",
       " 'px_3.11',\n",
       " 'px_3.12',\n",
       " 'px_3.13',\n",
       " 'px_3.14',\n",
       " 'px_3.15',\n",
       " 'px_3.16',\n",
       " 'px_3.17',\n",
       " 'px_3.18',\n",
       " 'px_3.19',\n",
       " 'px_3.20',\n",
       " 'px_3.21',\n",
       " 'px_3.22',\n",
       " 'px_3.23',\n",
       " 'px_3.24',\n",
       " 'px_3.25',\n",
       " 'px_3.26',\n",
       " 'px_3.27',\n",
       " 'px_4.0',\n",
       " 'px_4.1',\n",
       " 'px_4.2',\n",
       " 'px_4.3',\n",
       " 'px_4.4',\n",
       " 'px_4.5',\n",
       " 'px_4.6',\n",
       " 'px_4.7',\n",
       " 'px_4.8',\n",
       " 'px_4.9',\n",
       " 'px_4.10',\n",
       " 'px_4.11',\n",
       " 'px_4.12',\n",
       " 'px_4.13',\n",
       " 'px_4.14',\n",
       " 'px_4.15',\n",
       " 'px_4.16',\n",
       " 'px_4.17',\n",
       " 'px_4.18',\n",
       " 'px_4.19',\n",
       " 'px_4.20',\n",
       " 'px_4.21',\n",
       " 'px_4.22',\n",
       " 'px_4.23',\n",
       " 'px_4.24',\n",
       " 'px_4.25',\n",
       " 'px_4.26',\n",
       " 'px_4.27',\n",
       " 'px_5.0',\n",
       " 'px_5.1',\n",
       " 'px_5.2',\n",
       " 'px_5.3',\n",
       " 'px_5.4',\n",
       " 'px_5.5',\n",
       " 'px_5.6',\n",
       " 'px_5.7',\n",
       " 'px_5.8',\n",
       " 'px_5.9',\n",
       " 'px_5.10',\n",
       " 'px_5.11',\n",
       " 'px_5.12',\n",
       " 'px_5.13',\n",
       " 'px_5.14',\n",
       " 'px_5.15',\n",
       " 'px_5.16',\n",
       " 'px_5.17',\n",
       " 'px_5.18',\n",
       " 'px_5.19',\n",
       " 'px_5.20',\n",
       " 'px_5.21',\n",
       " 'px_5.22',\n",
       " 'px_5.23',\n",
       " 'px_5.24',\n",
       " 'px_5.25',\n",
       " 'px_5.26',\n",
       " 'px_5.27',\n",
       " 'px_6.0',\n",
       " 'px_6.1',\n",
       " 'px_6.2',\n",
       " 'px_6.3',\n",
       " 'px_6.4',\n",
       " 'px_6.5',\n",
       " 'px_6.6',\n",
       " 'px_6.7',\n",
       " 'px_6.8',\n",
       " 'px_6.9',\n",
       " 'px_6.10',\n",
       " 'px_6.11',\n",
       " 'px_6.12',\n",
       " 'px_6.13',\n",
       " 'px_6.14',\n",
       " 'px_6.15',\n",
       " 'px_6.16',\n",
       " 'px_6.17',\n",
       " 'px_6.18',\n",
       " 'px_6.19',\n",
       " 'px_6.20',\n",
       " 'px_6.21',\n",
       " 'px_6.22',\n",
       " 'px_6.23',\n",
       " 'px_6.24',\n",
       " 'px_6.25',\n",
       " 'px_6.26',\n",
       " 'px_6.27',\n",
       " 'px_7.0',\n",
       " 'px_7.1',\n",
       " 'px_7.2',\n",
       " 'px_7.3',\n",
       " 'px_7.4',\n",
       " 'px_7.5',\n",
       " 'px_7.6',\n",
       " 'px_7.7',\n",
       " 'px_7.8',\n",
       " 'px_7.9',\n",
       " 'px_7.10',\n",
       " 'px_7.11',\n",
       " 'px_7.12',\n",
       " 'px_7.13',\n",
       " 'px_7.14',\n",
       " 'px_7.15',\n",
       " 'px_7.16',\n",
       " 'px_7.17',\n",
       " 'px_7.18',\n",
       " 'px_7.19',\n",
       " 'px_7.20',\n",
       " 'px_7.21',\n",
       " 'px_7.22',\n",
       " 'px_7.23',\n",
       " 'px_7.24',\n",
       " 'px_7.25',\n",
       " 'px_7.26',\n",
       " 'px_7.27',\n",
       " 'px_8.0',\n",
       " 'px_8.1',\n",
       " 'px_8.2',\n",
       " 'px_8.3',\n",
       " 'px_8.4',\n",
       " 'px_8.5',\n",
       " 'px_8.6',\n",
       " 'px_8.7',\n",
       " 'px_8.8',\n",
       " 'px_8.9',\n",
       " 'px_8.10',\n",
       " 'px_8.11',\n",
       " 'px_8.12',\n",
       " 'px_8.13',\n",
       " 'px_8.14',\n",
       " 'px_8.15',\n",
       " 'px_8.16',\n",
       " 'px_8.17',\n",
       " 'px_8.18',\n",
       " 'px_8.19',\n",
       " 'px_8.20',\n",
       " 'px_8.21',\n",
       " 'px_8.22',\n",
       " 'px_8.23',\n",
       " 'px_8.24',\n",
       " 'px_8.25',\n",
       " 'px_8.26',\n",
       " 'px_8.27',\n",
       " 'px_9.0',\n",
       " 'px_9.1',\n",
       " 'px_9.2',\n",
       " 'px_9.3',\n",
       " 'px_9.4',\n",
       " 'px_9.5',\n",
       " 'px_9.6',\n",
       " 'px_9.7',\n",
       " 'px_9.8',\n",
       " 'px_9.9',\n",
       " 'px_9.10',\n",
       " 'px_9.11',\n",
       " 'px_9.12',\n",
       " 'px_9.13',\n",
       " 'px_9.14',\n",
       " 'px_9.15',\n",
       " 'px_9.16',\n",
       " 'px_9.17',\n",
       " 'px_9.18',\n",
       " 'px_9.19',\n",
       " 'px_9.20',\n",
       " 'px_9.21',\n",
       " 'px_9.22',\n",
       " 'px_9.23',\n",
       " 'px_9.24',\n",
       " 'px_9.25',\n",
       " 'px_9.26',\n",
       " 'px_9.27',\n",
       " 'px_10.0',\n",
       " 'px_10.1',\n",
       " 'px_10.2',\n",
       " 'px_10.3',\n",
       " 'px_10.4',\n",
       " 'px_10.5',\n",
       " 'px_10.6',\n",
       " 'px_10.7',\n",
       " 'px_10.8',\n",
       " 'px_10.9',\n",
       " 'px_10.10',\n",
       " 'px_10.11',\n",
       " 'px_10.12',\n",
       " 'px_10.13',\n",
       " 'px_10.14',\n",
       " 'px_10.15',\n",
       " 'px_10.16',\n",
       " 'px_10.17',\n",
       " 'px_10.18',\n",
       " 'px_10.19',\n",
       " 'px_10.20',\n",
       " 'px_10.21',\n",
       " 'px_10.22',\n",
       " 'px_10.23',\n",
       " 'px_10.24',\n",
       " 'px_10.25',\n",
       " 'px_10.26',\n",
       " 'px_10.27',\n",
       " 'px_11.0',\n",
       " 'px_11.1',\n",
       " 'px_11.2',\n",
       " 'px_11.3',\n",
       " 'px_11.4',\n",
       " 'px_11.5',\n",
       " 'px_11.6',\n",
       " 'px_11.7',\n",
       " 'px_11.8',\n",
       " 'px_11.9',\n",
       " 'px_11.10',\n",
       " 'px_11.11',\n",
       " 'px_11.12',\n",
       " 'px_11.13',\n",
       " 'px_11.14',\n",
       " 'px_11.15',\n",
       " 'px_11.16',\n",
       " 'px_11.17',\n",
       " 'px_11.18',\n",
       " 'px_11.19',\n",
       " 'px_11.20',\n",
       " 'px_11.21',\n",
       " 'px_11.22',\n",
       " 'px_11.23',\n",
       " 'px_11.24',\n",
       " 'px_11.25',\n",
       " 'px_11.26',\n",
       " 'px_11.27',\n",
       " 'px_12.0',\n",
       " 'px_12.1',\n",
       " 'px_12.2',\n",
       " 'px_12.3',\n",
       " 'px_12.4',\n",
       " 'px_12.5',\n",
       " 'px_12.6',\n",
       " 'px_12.7',\n",
       " 'px_12.8',\n",
       " 'px_12.9',\n",
       " 'px_12.10',\n",
       " 'px_12.11',\n",
       " 'px_12.12',\n",
       " 'px_12.13',\n",
       " 'px_12.14',\n",
       " 'px_12.15',\n",
       " 'px_12.16',\n",
       " 'px_12.17',\n",
       " 'px_12.18',\n",
       " 'px_12.19',\n",
       " 'px_12.20',\n",
       " 'px_12.21',\n",
       " 'px_12.22',\n",
       " 'px_12.23',\n",
       " 'px_12.24',\n",
       " 'px_12.25',\n",
       " 'px_12.26',\n",
       " 'px_12.27',\n",
       " 'px_13.0',\n",
       " 'px_13.1',\n",
       " 'px_13.2',\n",
       " 'px_13.3',\n",
       " 'px_13.4',\n",
       " 'px_13.5',\n",
       " 'px_13.6',\n",
       " 'px_13.7',\n",
       " 'px_13.8',\n",
       " 'px_13.9',\n",
       " 'px_13.10',\n",
       " 'px_13.11',\n",
       " 'px_13.12',\n",
       " 'px_13.13',\n",
       " 'px_13.14',\n",
       " 'px_13.15',\n",
       " 'px_13.16',\n",
       " 'px_13.17',\n",
       " 'px_13.18',\n",
       " 'px_13.19',\n",
       " 'px_13.20',\n",
       " 'px_13.21',\n",
       " 'px_13.22',\n",
       " 'px_13.23',\n",
       " 'px_13.24',\n",
       " 'px_13.25',\n",
       " 'px_13.26',\n",
       " 'px_13.27',\n",
       " 'px_14.0',\n",
       " 'px_14.1',\n",
       " 'px_14.2',\n",
       " 'px_14.3',\n",
       " 'px_14.4',\n",
       " 'px_14.5',\n",
       " 'px_14.6',\n",
       " 'px_14.7',\n",
       " 'px_14.8',\n",
       " 'px_14.9',\n",
       " 'px_14.10',\n",
       " 'px_14.11',\n",
       " 'px_14.12',\n",
       " 'px_14.13',\n",
       " 'px_14.14',\n",
       " 'px_14.15',\n",
       " 'px_14.16',\n",
       " 'px_14.17',\n",
       " 'px_14.18',\n",
       " 'px_14.19',\n",
       " 'px_14.20',\n",
       " 'px_14.21',\n",
       " 'px_14.22',\n",
       " 'px_14.23',\n",
       " 'px_14.24',\n",
       " 'px_14.25',\n",
       " 'px_14.26',\n",
       " 'px_14.27',\n",
       " 'px_15.0',\n",
       " 'px_15.1',\n",
       " 'px_15.2',\n",
       " 'px_15.3',\n",
       " 'px_15.4',\n",
       " 'px_15.5',\n",
       " 'px_15.6',\n",
       " 'px_15.7',\n",
       " 'px_15.8',\n",
       " 'px_15.9',\n",
       " 'px_15.10',\n",
       " 'px_15.11',\n",
       " 'px_15.12',\n",
       " 'px_15.13',\n",
       " 'px_15.14',\n",
       " 'px_15.15',\n",
       " 'px_15.16',\n",
       " 'px_15.17',\n",
       " 'px_15.18',\n",
       " 'px_15.19',\n",
       " 'px_15.20',\n",
       " 'px_15.21',\n",
       " 'px_15.22',\n",
       " 'px_15.23',\n",
       " 'px_15.24',\n",
       " 'px_15.25',\n",
       " 'px_15.26',\n",
       " 'px_15.27',\n",
       " 'px_16.0',\n",
       " 'px_16.1',\n",
       " 'px_16.2',\n",
       " 'px_16.3',\n",
       " 'px_16.4',\n",
       " 'px_16.5',\n",
       " 'px_16.6',\n",
       " 'px_16.7',\n",
       " 'px_16.8',\n",
       " 'px_16.9',\n",
       " 'px_16.10',\n",
       " 'px_16.11',\n",
       " 'px_16.12',\n",
       " 'px_16.13',\n",
       " 'px_16.14',\n",
       " 'px_16.15',\n",
       " 'px_16.16',\n",
       " 'px_16.17',\n",
       " 'px_16.18',\n",
       " 'px_16.19',\n",
       " 'px_16.20',\n",
       " 'px_16.21',\n",
       " 'px_16.22',\n",
       " 'px_16.23',\n",
       " 'px_16.24',\n",
       " 'px_16.25',\n",
       " 'px_16.26',\n",
       " 'px_16.27',\n",
       " 'px_17.0',\n",
       " 'px_17.1',\n",
       " 'px_17.2',\n",
       " 'px_17.3',\n",
       " 'px_17.4',\n",
       " 'px_17.5',\n",
       " 'px_17.6',\n",
       " 'px_17.7',\n",
       " 'px_17.8',\n",
       " 'px_17.9',\n",
       " 'px_17.10',\n",
       " 'px_17.11',\n",
       " 'px_17.12',\n",
       " 'px_17.13',\n",
       " 'px_17.14',\n",
       " 'px_17.15',\n",
       " 'px_17.16',\n",
       " 'px_17.17',\n",
       " 'px_17.18',\n",
       " 'px_17.19',\n",
       " 'px_17.20',\n",
       " 'px_17.21',\n",
       " 'px_17.22',\n",
       " 'px_17.23',\n",
       " 'px_17.24',\n",
       " 'px_17.25',\n",
       " 'px_17.26',\n",
       " 'px_17.27',\n",
       " 'px_18.0',\n",
       " 'px_18.1',\n",
       " 'px_18.2',\n",
       " 'px_18.3',\n",
       " 'px_18.4',\n",
       " 'px_18.5',\n",
       " 'px_18.6',\n",
       " 'px_18.7',\n",
       " 'px_18.8',\n",
       " 'px_18.9',\n",
       " 'px_18.10',\n",
       " 'px_18.11',\n",
       " 'px_18.12',\n",
       " 'px_18.13',\n",
       " 'px_18.14',\n",
       " 'px_18.15',\n",
       " 'px_18.16',\n",
       " 'px_18.17',\n",
       " 'px_18.18',\n",
       " 'px_18.19',\n",
       " 'px_18.20',\n",
       " 'px_18.21',\n",
       " 'px_18.22',\n",
       " 'px_18.23',\n",
       " 'px_18.24',\n",
       " 'px_18.25',\n",
       " 'px_18.26',\n",
       " 'px_18.27',\n",
       " 'px_19.0',\n",
       " 'px_19.1',\n",
       " 'px_19.2',\n",
       " 'px_19.3',\n",
       " 'px_19.4',\n",
       " 'px_19.5',\n",
       " 'px_19.6',\n",
       " 'px_19.7',\n",
       " 'px_19.8',\n",
       " 'px_19.9',\n",
       " 'px_19.10',\n",
       " 'px_19.11',\n",
       " 'px_19.12',\n",
       " 'px_19.13',\n",
       " 'px_19.14',\n",
       " 'px_19.15',\n",
       " 'px_19.16',\n",
       " 'px_19.17',\n",
       " 'px_19.18',\n",
       " 'px_19.19',\n",
       " 'px_19.20',\n",
       " 'px_19.21',\n",
       " 'px_19.22',\n",
       " 'px_19.23',\n",
       " 'px_19.24',\n",
       " 'px_19.25',\n",
       " 'px_19.26',\n",
       " 'px_19.27',\n",
       " 'px_20.0',\n",
       " 'px_20.1',\n",
       " 'px_20.2',\n",
       " 'px_20.3',\n",
       " 'px_20.4',\n",
       " 'px_20.5',\n",
       " 'px_20.6',\n",
       " 'px_20.7',\n",
       " 'px_20.8',\n",
       " 'px_20.9',\n",
       " 'px_20.10',\n",
       " 'px_20.11',\n",
       " 'px_20.12',\n",
       " 'px_20.13',\n",
       " 'px_20.14',\n",
       " 'px_20.15',\n",
       " 'px_20.16',\n",
       " 'px_20.17',\n",
       " 'px_20.18',\n",
       " 'px_20.19',\n",
       " 'px_20.20',\n",
       " 'px_20.21',\n",
       " 'px_20.22',\n",
       " 'px_20.23',\n",
       " 'px_20.24',\n",
       " 'px_20.25',\n",
       " 'px_20.26',\n",
       " 'px_20.27',\n",
       " 'px_21.0',\n",
       " 'px_21.1',\n",
       " 'px_21.2',\n",
       " 'px_21.3',\n",
       " 'px_21.4',\n",
       " 'px_21.5',\n",
       " 'px_21.6',\n",
       " 'px_21.7',\n",
       " 'px_21.8',\n",
       " 'px_21.9',\n",
       " 'px_21.10',\n",
       " 'px_21.11',\n",
       " 'px_21.12',\n",
       " 'px_21.13',\n",
       " 'px_21.14',\n",
       " 'px_21.15',\n",
       " 'px_21.16',\n",
       " 'px_21.17',\n",
       " 'px_21.18',\n",
       " 'px_21.19',\n",
       " 'px_21.20',\n",
       " 'px_21.21',\n",
       " 'px_21.22',\n",
       " 'px_21.23',\n",
       " 'px_21.24',\n",
       " 'px_21.25',\n",
       " 'px_21.26',\n",
       " 'px_21.27',\n",
       " 'px_22.0',\n",
       " 'px_22.1',\n",
       " 'px_22.2',\n",
       " 'px_22.3',\n",
       " 'px_22.4',\n",
       " 'px_22.5',\n",
       " 'px_22.6',\n",
       " 'px_22.7',\n",
       " 'px_22.8',\n",
       " 'px_22.9',\n",
       " 'px_22.10',\n",
       " 'px_22.11',\n",
       " 'px_22.12',\n",
       " 'px_22.13',\n",
       " 'px_22.14',\n",
       " 'px_22.15',\n",
       " 'px_22.16',\n",
       " 'px_22.17',\n",
       " 'px_22.18',\n",
       " 'px_22.19',\n",
       " 'px_22.20',\n",
       " 'px_22.21',\n",
       " 'px_22.22',\n",
       " 'px_22.23',\n",
       " 'px_22.24',\n",
       " 'px_22.25',\n",
       " 'px_22.26',\n",
       " 'px_22.27',\n",
       " 'px_23.0',\n",
       " 'px_23.1',\n",
       " 'px_23.2',\n",
       " 'px_23.3',\n",
       " 'px_23.4',\n",
       " 'px_23.5',\n",
       " 'px_23.6',\n",
       " 'px_23.7',\n",
       " 'px_23.8',\n",
       " 'px_23.9',\n",
       " 'px_23.10',\n",
       " 'px_23.11',\n",
       " 'px_23.12',\n",
       " 'px_23.13',\n",
       " 'px_23.14',\n",
       " 'px_23.15',\n",
       " 'px_23.16',\n",
       " 'px_23.17',\n",
       " 'px_23.18',\n",
       " 'px_23.19',\n",
       " 'px_23.20',\n",
       " 'px_23.21',\n",
       " 'px_23.22',\n",
       " 'px_23.23',\n",
       " 'px_23.24',\n",
       " 'px_23.25',\n",
       " 'px_23.26',\n",
       " 'px_23.27',\n",
       " 'px_24.0',\n",
       " 'px_24.1',\n",
       " 'px_24.2',\n",
       " 'px_24.3',\n",
       " 'px_24.4',\n",
       " 'px_24.5',\n",
       " 'px_24.6',\n",
       " 'px_24.7',\n",
       " 'px_24.8',\n",
       " 'px_24.9',\n",
       " 'px_24.10',\n",
       " 'px_24.11',\n",
       " 'px_24.12',\n",
       " 'px_24.13',\n",
       " 'px_24.14',\n",
       " 'px_24.15',\n",
       " 'px_24.16',\n",
       " 'px_24.17',\n",
       " 'px_24.18',\n",
       " 'px_24.19',\n",
       " 'px_24.20',\n",
       " 'px_24.21',\n",
       " 'px_24.22',\n",
       " 'px_24.23',\n",
       " 'px_24.24',\n",
       " 'px_24.25',\n",
       " 'px_24.26',\n",
       " 'px_24.27',\n",
       " 'px_25.0',\n",
       " 'px_25.1',\n",
       " 'px_25.2',\n",
       " 'px_25.3',\n",
       " 'px_25.4',\n",
       " 'px_25.5',\n",
       " 'px_25.6',\n",
       " 'px_25.7',\n",
       " 'px_25.8',\n",
       " 'px_25.9',\n",
       " 'px_25.10',\n",
       " 'px_25.11',\n",
       " 'px_25.12',\n",
       " 'px_25.13',\n",
       " 'px_25.14',\n",
       " 'px_25.15',\n",
       " 'px_25.16',\n",
       " 'px_25.17',\n",
       " 'px_25.18',\n",
       " 'px_25.19',\n",
       " 'px_25.20',\n",
       " 'px_25.21',\n",
       " 'px_25.22',\n",
       " 'px_25.23',\n",
       " 'px_25.24',\n",
       " 'px_25.25',\n",
       " 'px_25.26',\n",
       " 'px_25.27',\n",
       " 'px_26.0',\n",
       " 'px_26.1',\n",
       " 'px_26.2',\n",
       " 'px_26.3',\n",
       " 'px_26.4',\n",
       " 'px_26.5',\n",
       " 'px_26.6',\n",
       " 'px_26.7',\n",
       " 'px_26.8',\n",
       " 'px_26.9',\n",
       " 'px_26.10',\n",
       " 'px_26.11',\n",
       " 'px_26.12',\n",
       " 'px_26.13',\n",
       " 'px_26.14',\n",
       " 'px_26.15',\n",
       " 'px_26.16',\n",
       " 'px_26.17',\n",
       " 'px_26.18',\n",
       " 'px_26.19',\n",
       " 'px_26.20',\n",
       " 'px_26.21',\n",
       " 'px_26.22',\n",
       " 'px_26.23',\n",
       " 'px_26.24',\n",
       " 'px_26.25',\n",
       " 'px_26.26',\n",
       " 'px_26.27',\n",
       " 'px_27.0',\n",
       " 'px_27.1',\n",
       " 'px_27.2',\n",
       " 'px_27.3',\n",
       " 'px_27.4',\n",
       " 'px_27.5',\n",
       " 'px_27.6',\n",
       " 'px_27.7',\n",
       " 'px_27.8',\n",
       " 'px_27.9',\n",
       " 'px_27.10',\n",
       " 'px_27.11',\n",
       " 'px_27.12',\n",
       " 'px_27.13',\n",
       " 'px_27.14',\n",
       " 'px_27.15',\n",
       " 'px_27.16',\n",
       " 'px_27.17',\n",
       " 'px_27.18',\n",
       " 'px_27.19',\n",
       " 'px_27.20',\n",
       " 'px_27.21',\n",
       " 'px_27.22',\n",
       " 'px_27.23',\n",
       " 'px_27.24',\n",
       " 'px_27.25',\n",
       " 'px_27.26',\n",
       " 'px_27.27']"
      ]
     },
     "execution_count": 8,
     "metadata": {},
     "output_type": "execute_result"
    }
   ],
   "source": [
    "cnames"
   ]
  },
  {
   "cell_type": "code",
   "execution_count": 9,
   "metadata": {},
   "outputs": [],
   "source": [
    "c_train.columns = cnames"
   ]
  },
  {
   "cell_type": "code",
   "execution_count": 10,
   "metadata": {},
   "outputs": [],
   "source": [
    "mnist_train = c_train"
   ]
  },
  {
   "cell_type": "code",
   "execution_count": 11,
   "metadata": {},
   "outputs": [],
   "source": [
    "import matplotlib.pyplot as plt"
   ]
  },
  {
   "cell_type": "code",
   "execution_count": 12,
   "metadata": {},
   "outputs": [],
   "source": [
    "digit = mnist_train.values[0, 1:]"
   ]
  },
  {
   "cell_type": "code",
   "execution_count": 13,
   "metadata": {},
   "outputs": [
    {
     "data": {
      "text/plain": [
       "<matplotlib.image.AxesImage at 0x7f0f24272748>"
      ]
     },
     "execution_count": 13,
     "metadata": {},
     "output_type": "execute_result"
    },
    {
     "data": {
      "image/png": "[encoded data removed]",
      "text/plain": [
       "<Figure size 432x288 with 1 Axes>"
      ]
     },
     "metadata": {
      "needs_background": "light"
     },
     "output_type": "display_data"
    }
   ],
   "source": [
    "plt.imshow(digit.reshape(28, 28), cmap='Greys')"
   ]
  },
  {
   "cell_type": "code",
   "execution_count": 14,
   "metadata": {},
   "outputs": [],
   "source": [
    "labels = mnist_train.values[:,0]"
   ]
  },
  {
   "cell_type": "code",
   "execution_count": 15,
   "metadata": {},
   "outputs": [
    {
     "data": {
      "text/plain": [
       "{0: 5923,\n",
       " 1: 6742,\n",
       " 2: 5958,\n",
       " 3: 6131,\n",
       " 4: 5842,\n",
       " 5: 5421,\n",
       " 6: 5918,\n",
       " 7: 6265,\n",
       " 8: 5851,\n",
       " 9: 5949}"
      ]
     },
     "execution_count": 15,
     "metadata": {},
     "output_type": "execute_result"
    }
   ],
   "source": [
    "dict(zip(*np.unique(labels, return_counts=True)))"
   ]
  },
  {
   "cell_type": "code",
   "execution_count": null,
   "metadata": {},
   "outputs": [],
   "source": []
  },
  {
   "cell_type": "code",
   "execution_count": null,
   "metadata": {},
   "outputs": [],
   "source": []
  },
  {
   "cell_type": "code",
   "execution_count": null,
   "metadata": {},
   "outputs": [],
   "source": []
  },
  {
   "cell_type": "code",
   "execution_count": null,
   "metadata": {},
   "outputs": [],
   "source": []
  },
  {
   "cell_type": "code",
   "execution_count": null,
   "metadata": {},
   "outputs": [],
   "source": []
  },
  {
   "cell_type": "code",
   "execution_count": null,
   "metadata": {},
   "outputs": [],
   "source": []
  },
  {
   "cell_type": "code",
   "execution_count": 16,
   "metadata": {},
   "outputs": [],
   "source": [
    "matrix = mnist_train.values"
   ]
  },
  {
   "cell_type": "code",
   "execution_count": 17,
   "metadata": {
    "scrolled": false
   },
   "outputs": [
    {
     "data": {
      "image/png": "[encoded data removed]",
      "text/plain": [
       "<Figure size 432x288 with 1 Axes>"
      ]
     },
     "metadata": {
      "needs_background": "light"
     },
     "output_type": "display_data"
    },
    {
     "data": {
      "image/png": "[encoded data removed]",
      "text/plain": [
       "<Figure size 432x288 with 1 Axes>"
      ]
     },
     "metadata": {
      "needs_background": "light"
     },
     "output_type": "display_data"
    },
    {
     "data": {
      "image/png": "[encoded data removed]",
      "text/plain": [
       "<Figure size 432x288 with 1 Axes>"
      ]
     },
     "metadata": {
      "needs_background": "light"
     },
     "output_type": "display_data"
    },
    {
     "data": {
      "image/png": "[encoded data removed]",
      "text/plain": [
       "<Figure size 432x288 with 1 Axes>"
      ]
     },
     "metadata": {
      "needs_background": "light"
     },
     "output_type": "display_data"
    },
    {
     "data": {
      "image/png": "[encoded data removed]",
      "text/plain": [
       "<Figure size 432x288 with 1 Axes>"
      ]
     },
     "metadata": {
      "needs_background": "light"
     },
     "output_type": "display_data"
    },
    {
     "data": {
      "image/png": "[encoded data removed]",
      "text/plain": [
       "<Figure size 432x288 with 1 Axes>"
      ]
     },
     "metadata": {
      "needs_background": "light"
     },
     "output_type": "display_data"
    },
    {
     "data": {
      "image/png": "[encoded data removed]",
      "text/plain": [
       "<Figure size 432x288 with 1 Axes>"
      ]
     },
     "metadata": {
      "needs_background": "light"
     },
     "output_type": "display_data"
    },
    {
     "data": {
      "image/png": "[encoded data removed]",
      "text/plain": [
       "<Figure size 432x288 with 1 Axes>"
      ]
     },
     "metadata": {
      "needs_background": "light"
     },
     "output_type": "display_data"
    },
    {
     "data": {
      "image/png": "[encoded data removed]",
      "text/plain": [
       "<Figure size 432x288 with 1 Axes>"
      ]
     },
     "metadata": {
      "needs_background": "light"
     },
     "output_type": "display_data"
    },
    {
     "data": {
      "image/png": "[encoded data removed]",
      "text/plain": [
       "<Figure size 432x288 with 1 Axes>"
      ]
     },
     "metadata": {
      "needs_background": "light"
     },
     "output_type": "display_data"
    }
   ],
   "source": [
    "for _ in sorted(np.unique(matrix[:, 0])):\n",
    "    digits = matrix[matrix[:, 0] == _, 1:]\n",
    "    images = np.sum(digits, axis=0).reshape(28,28) / digits.shape[0]\n",
    "    plt.figure()\n",
    "    plt.imshow(images, cmap='Greys')"
   ]
  },
  {
   "cell_type": "code",
   "execution_count": null,
   "metadata": {},
   "outputs": [],
   "source": []
  },
  {
   "cell_type": "code",
   "execution_count": null,
   "metadata": {},
   "outputs": [],
   "source": []
  },
  {
   "cell_type": "code",
   "execution_count": null,
   "metadata": {},
   "outputs": [],
   "source": []
  },
  {
   "cell_type": "code",
   "execution_count": null,
   "metadata": {},
   "outputs": [],
   "source": []
  },
  {
   "cell_type": "code",
   "execution_count": null,
   "metadata": {},
   "outputs": [],
   "source": []
  },
  {
   "cell_type": "code",
   "execution_count": null,
   "metadata": {},
   "outputs": [],
   "source": []
  },
  {
   "cell_type": "code",
   "execution_count": null,
   "metadata": {},
   "outputs": [],
   "source": []
  },
  {
   "cell_type": "code",
   "execution_count": null,
   "metadata": {},
   "outputs": [],
   "source": []
  },
  {
   "cell_type": "code",
   "execution_count": null,
   "metadata": {},
   "outputs": [],
   "source": []
  },
  {
   "cell_type": "code",
   "execution_count": null,
   "metadata": {},
   "outputs": [],
   "source": []
  },
  {
   "cell_type": "code",
   "execution_count": null,
   "metadata": {},
   "outputs": [],
   "source": []
  },
  {
   "cell_type": "code",
   "execution_count": null,
   "metadata": {},
   "outputs": [],
   "source": []
  },
  {
   "cell_type": "code",
   "execution_count": null,
   "metadata": {},
   "outputs": [],
   "source": []
  },
  {
   "cell_type": "code",
   "execution_count": null,
   "metadata": {},
   "outputs": [],
   "source": []
  },
  {
   "cell_type": "code",
   "execution_count": null,
   "metadata": {},
   "outputs": [],
   "source": []
  },
  {
   "cell_type": "code",
   "execution_count": null,
   "metadata": {},
   "outputs": [],
   "source": []
  },
  {
   "cell_type": "code",
   "execution_count": null,
   "metadata": {},
   "outputs": [],
   "source": []
  },
  {
   "cell_type": "code",
   "execution_count": null,
   "metadata": {},
   "outputs": [],
   "source": []
  },
  {
   "cell_type": "code",
   "execution_count": 18,
   "metadata": {},
   "outputs": [
    {
     "data": {
      "text/plain": [
       "'3.7.1 (default, Dec 14 2018, 19:28:38) \\n[GCC 7.3.0]'"
      ]
     },
     "execution_count": 18,
     "metadata": {},
     "output_type": "execute_result"
    }
   ],
   "source": [
    "sys.version"
   ]
  },
  {
   "cell_type": "code",
   "execution_count": 19,
   "metadata": {},
   "outputs": [
    {
     "data": {
      "text/plain": [
       "<matplotlib.image.AxesImage at 0x7f0f23f0f4e0>"
      ]
     },
     "execution_count": 19,
     "metadata": {},
     "output_type": "execute_result"
    },
    {
     "data": {
      "image/png": "[encoded data removed]",
      "text/plain": [
       "<Figure size 432x288 with 1 Axes>"
      ]
     },
     "metadata": {
      "needs_background": "light"
     },
     "output_type": "display_data"
    }
   ],
   "source": [
    "plt.imshow(matrix[0, 1:].reshape(28, 28), cmap='Greys')"
   ]
  },
  {
   "cell_type": "code",
   "execution_count": null,
   "metadata": {},
   "outputs": [],
   "source": []
  },
  {
   "cell_type": "code",
   "execution_count": null,
   "metadata": {},
   "outputs": [],
   "source": []
  },
  {
   "cell_type": "code",
   "execution_count": 20,
   "metadata": {},
   "outputs": [
    {
     "data": {
      "text/plain": [
       "5    5421\n",
       "4    5842\n",
       "8    5851\n",
       "6    5918\n",
       "0    5923\n",
       "9    5949\n",
       "2    5958\n",
       "3    6131\n",
       "7    6265\n",
       "1    6742\n",
       "Name: label, dtype: int64"
      ]
     },
     "execution_count": 20,
     "metadata": {},
     "output_type": "execute_result"
    }
   ],
   "source": [
    "mnist_train['label'].value_counts().sort_values()"
   ]
  },
  {
   "cell_type": "code",
   "execution_count": 21,
   "metadata": {},
   "outputs": [],
   "source": [
    "counts = dict(zip(*np.unique(matrix[:, 0], return_counts=True)))"
   ]
  },
  {
   "cell_type": "code",
   "execution_count": null,
   "metadata": {},
   "outputs": [],
   "source": []
  },
  {
   "cell_type": "code",
   "execution_count": 22,
   "metadata": {},
   "outputs": [
    {
     "name": "stdout",
     "output_type": "stream",
     "text": [
      "CPU times: user 6 µs, sys: 1e+03 ns, total: 7 µs\n",
      "Wall time: 13.8 µs\n"
     ]
    }
   ],
   "source": [
    "time None"
   ]
  },
  {
   "cell_type": "code",
   "execution_count": null,
   "metadata": {},
   "outputs": [],
   "source": []
  },
  {
   "cell_type": "code",
   "execution_count": 26,
   "metadata": {},
   "outputs": [
    {
     "data": {
      "text/plain": [
       "[<matplotlib.lines.Line2D at 0x7f0f239f1c18>]"
      ]
     },
     "execution_count": 26,
     "metadata": {},
     "output_type": "execute_result"
    },
    {
     "data": {
      "image/png": "[encoded data removed]",
      "text/plain": [
       "<Figure size 432x288 with 1 Axes>"
      ]
     },
     "metadata": {
      "needs_background": "light"
     },
     "output_type": "display_data"
    }
   ],
   "source": [
    "plt.plot(counts.keys(), counts.values())"
   ]
  },
  {
   "cell_type": "code",
   "execution_count": null,
   "metadata": {},
   "outputs": [],
   "source": []
  }
 ],
 "metadata": {
  "kernelspec": {
   "display_name": "Python 3",
   "language": "python",
   "name": "python3"
  },
  "language_info": {
   "codemirror_mode": {
    "name": "ipython",
    "version": 3
   },
   "file_extension": ".py",
   "mimetype": "text/x-python",
   "name": "python",
   "nbconvert_exporter": "python",
   "pygments_lexer": "ipython3",
   "version": "3.7.1"
  }
 },
 "nbformat": 4,
 "nbformat_minor": 2
}
