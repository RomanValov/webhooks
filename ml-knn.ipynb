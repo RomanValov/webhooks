{
 "cells": [
  {
   "cell_type": "code",
   "execution_count": 1,
   "metadata": {},
   "outputs": [],
   "source": [
    "import numpy as np"
   ]
  },
  {
   "cell_type": "code",
   "execution_count": 2,
   "metadata": {},
   "outputs": [],
   "source": [
    "import pandas as pd"
   ]
  },
  {
   "cell_type": "code",
   "execution_count": 3,
   "metadata": {},
   "outputs": [],
   "source": [
    "import matplotlib.pyplot as pp"
   ]
  },
  {
   "cell_type": "code",
   "execution_count": null,
   "metadata": {},
   "outputs": [],
   "source": []
  },
  {
   "cell_type": "code",
   "execution_count": 4,
   "metadata": {},
   "outputs": [
    {
     "name": "stdout",
     "output_type": "stream",
     "text": [
      "lost+found  ml.ipynb  mnist_test.csv  mnist_train.csv  Untitled.ipynb\r\n"
     ]
    }
   ],
   "source": [
    "!ls"
   ]
  },
  {
   "cell_type": "code",
   "execution_count": 5,
   "metadata": {},
   "outputs": [],
   "source": [
    "mnist_test = pd.read_csv('./mnist_test.csv', header=None)"
   ]
  },
  {
   "cell_type": "code",
   "execution_count": 6,
   "metadata": {},
   "outputs": [],
   "source": [
    "mnist_train = pd.read_csv('./mnist_train.csv', header=None)"
   ]
  },
  {
   "cell_type": "code",
   "execution_count": null,
   "metadata": {},
   "outputs": [],
   "source": []
  },
  {
   "cell_type": "code",
   "execution_count": 7,
   "metadata": {},
   "outputs": [],
   "source": [
    "cnames = [\"label\"] + ['px_%s.%s' % (x,y) for x in range(28) for y in range(28)]"
   ]
  },
  {
   "cell_type": "code",
   "execution_count": null,
   "metadata": {},
   "outputs": [],
   "source": []
  },
  {
   "cell_type": "code",
   "execution_count": 8,
   "metadata": {},
   "outputs": [],
   "source": [
    "mnist_train.columns = cnames"
   ]
  },
  {
   "cell_type": "code",
   "execution_count": 9,
   "metadata": {},
   "outputs": [],
   "source": [
    "mnist_test.columns = cnames"
   ]
  },
  {
   "cell_type": "code",
   "execution_count": null,
   "metadata": {},
   "outputs": [],
   "source": []
  },
  {
   "cell_type": "code",
   "execution_count": 10,
   "metadata": {},
   "outputs": [],
   "source": [
    "image_size = 28"
   ]
  },
  {
   "cell_type": "code",
   "execution_count": null,
   "metadata": {},
   "outputs": [],
   "source": []
  },
  {
   "cell_type": "code",
   "execution_count": 11,
   "metadata": {},
   "outputs": [],
   "source": [
    "label_train = mnist_train['label'].values"
   ]
  },
  {
   "cell_type": "code",
   "execution_count": 12,
   "metadata": {},
   "outputs": [
    {
     "data": {
      "text/plain": [
       "(60000,)"
      ]
     },
     "execution_count": 12,
     "metadata": {},
     "output_type": "execute_result"
    }
   ],
   "source": [
    "label_train.shape"
   ]
  },
  {
   "cell_type": "code",
   "execution_count": null,
   "metadata": {},
   "outputs": [],
   "source": []
  },
  {
   "cell_type": "code",
   "execution_count": 13,
   "metadata": {},
   "outputs": [],
   "source": [
    "label_test = mnist_test['label'].values"
   ]
  },
  {
   "cell_type": "code",
   "execution_count": 14,
   "metadata": {},
   "outputs": [
    {
     "data": {
      "text/plain": [
       "(10000,)"
      ]
     },
     "execution_count": 14,
     "metadata": {},
     "output_type": "execute_result"
    }
   ],
   "source": [
    "label_test.shape"
   ]
  },
  {
   "cell_type": "code",
   "execution_count": null,
   "metadata": {},
   "outputs": [],
   "source": []
  },
  {
   "cell_type": "code",
   "execution_count": 15,
   "metadata": {},
   "outputs": [],
   "source": [
    "image_train = mnist_train.values[:, 1:]"
   ]
  },
  {
   "cell_type": "code",
   "execution_count": 16,
   "metadata": {},
   "outputs": [
    {
     "data": {
      "text/plain": [
       "(60000, 784)"
      ]
     },
     "execution_count": 16,
     "metadata": {},
     "output_type": "execute_result"
    }
   ],
   "source": [
    "image_train.shape"
   ]
  },
  {
   "cell_type": "code",
   "execution_count": null,
   "metadata": {},
   "outputs": [],
   "source": []
  },
  {
   "cell_type": "code",
   "execution_count": 17,
   "metadata": {},
   "outputs": [],
   "source": [
    "image_test = mnist_test.values[:, 1:]"
   ]
  },
  {
   "cell_type": "code",
   "execution_count": 18,
   "metadata": {},
   "outputs": [
    {
     "data": {
      "text/plain": [
       "(10000, 784)"
      ]
     },
     "execution_count": 18,
     "metadata": {},
     "output_type": "execute_result"
    }
   ],
   "source": [
    "image_test.shape"
   ]
  },
  {
   "cell_type": "code",
   "execution_count": null,
   "metadata": {},
   "outputs": [],
   "source": []
  },
  {
   "cell_type": "code",
   "execution_count": 19,
   "metadata": {},
   "outputs": [],
   "source": [
    "image_train = image_train.reshape(60000, 28, 28)"
   ]
  },
  {
   "cell_type": "code",
   "execution_count": 20,
   "metadata": {},
   "outputs": [],
   "source": [
    "image_test = image_test.reshape(10000, 28, 28)"
   ]
  },
  {
   "cell_type": "code",
   "execution_count": null,
   "metadata": {},
   "outputs": [],
   "source": []
  },
  {
   "cell_type": "code",
   "execution_count": 21,
   "metadata": {},
   "outputs": [],
   "source": [
    "from sklearn.neighbors import KNeighborsClassifier"
   ]
  },
  {
   "cell_type": "code",
   "execution_count": null,
   "metadata": {},
   "outputs": [],
   "source": []
  },
  {
   "cell_type": "code",
   "execution_count": null,
   "metadata": {},
   "outputs": [],
   "source": []
  },
  {
   "cell_type": "code",
   "execution_count": 22,
   "metadata": {},
   "outputs": [],
   "source": [
    "from sklearn.metrics import accuracy_score, confusion_matrix"
   ]
  },
  {
   "cell_type": "code",
   "execution_count": null,
   "metadata": {},
   "outputs": [],
   "source": []
  },
  {
   "cell_type": "code",
   "execution_count": 23,
   "metadata": {},
   "outputs": [],
   "source": [
    "lines_train = image_train.reshape(60000, 784)"
   ]
  },
  {
   "cell_type": "code",
   "execution_count": 24,
   "metadata": {},
   "outputs": [],
   "source": [
    "lines_test = image_test.reshape(10000, 784)"
   ]
  },
  {
   "cell_type": "code",
   "execution_count": null,
   "metadata": {},
   "outputs": [],
   "source": []
  },
  {
   "cell_type": "code",
   "execution_count": 26,
   "metadata": {
    "scrolled": false
   },
   "outputs": [
    {
     "name": "stdout",
     "output_type": "stream",
     "text": [
      "CPU times: user 31.7 s, sys: 125 ms, total: 31.8 s\n",
      "Wall time: 31.8 s\n",
      "CPU times: user 21min, sys: 30.2 ms, total: 21min\n",
      "Wall time: 1min 19s\n",
      "\t1\t0.9691\n",
      "CPU times: user 31.4 s, sys: 116 ms, total: 31.6 s\n",
      "Wall time: 31.5 s\n",
      "CPU times: user 20min 59s, sys: 31.7 ms, total: 20min 59s\n",
      "Wall time: 1min 20s\n",
      "\t2\t0.9627\n",
      "CPU times: user 31.4 s, sys: 144 ms, total: 31.5 s\n",
      "Wall time: 31.5 s\n",
      "CPU times: user 21min 5s, sys: 19.8 ms, total: 21min 5s\n",
      "Wall time: 1min 20s\n",
      "\t3\t0.9705\n",
      "CPU times: user 31.4 s, sys: 116 ms, total: 31.6 s\n",
      "Wall time: 31.5 s\n",
      "CPU times: user 21min 2s, sys: 11.9 ms, total: 21min 2s\n",
      "Wall time: 1min 19s\n",
      "\t4\t0.9682\n",
      "CPU times: user 31.4 s, sys: 152 ms, total: 31.5 s\n",
      "Wall time: 31.5 s\n",
      "CPU times: user 21min 2s, sys: 11.9 ms, total: 21min 2s\n",
      "Wall time: 1min 19s\n",
      "\t5\t0.9688\n",
      "CPU times: user 31.4 s, sys: 152 ms, total: 31.6 s\n",
      "Wall time: 31.5 s\n",
      "CPU times: user 21min 1s, sys: 7.96 ms, total: 21min 1s\n",
      "Wall time: 1min 20s\n",
      "\t6\t0.9677\n",
      "CPU times: user 31.4 s, sys: 144 ms, total: 31.6 s\n",
      "Wall time: 31.5 s\n",
      "CPU times: user 21min 2s, sys: 7.98 ms, total: 21min 2s\n",
      "Wall time: 1min 19s\n",
      "\t7\t0.9694\n",
      "CPU times: user 31.5 s, sys: 116 ms, total: 31.6 s\n",
      "Wall time: 31.6 s\n",
      "CPU times: user 21min 2s, sys: 0 ns, total: 21min 2s\n",
      "Wall time: 1min 19s\n",
      "\t8\t0.967\n",
      "CPU times: user 31.4 s, sys: 156 ms, total: 31.6 s\n",
      "Wall time: 31.6 s\n",
      "CPU times: user 21min 1s, sys: 3.98 ms, total: 21min 1s\n",
      "Wall time: 1min 19s\n",
      "\t9\t0.9659\n",
      "CPU times: user 31.8 s, sys: 132 ms, total: 31.9 s\n",
      "Wall time: 31.9 s\n",
      "CPU times: user 21min 1s, sys: 7.98 ms, total: 21min 2s\n",
      "Wall time: 1min 19s\n",
      "\t10\t0.9665\n",
      "CPU times: user 31.7 s, sys: 160 ms, total: 31.9 s\n",
      "Wall time: 31.8 s\n",
      "CPU times: user 21min 1s, sys: 7.96 ms, total: 21min 1s\n",
      "Wall time: 1min 20s\n",
      "\t11\t0.9668\n",
      "CPU times: user 31.7 s, sys: 144 ms, total: 31.9 s\n",
      "Wall time: 31.9 s\n",
      "CPU times: user 21min 2s, sys: 12 ms, total: 21min 2s\n",
      "Wall time: 1min 20s\n",
      "\t12\t0.9661\n",
      "CPU times: user 31.8 s, sys: 128 ms, total: 31.9 s\n",
      "Wall time: 31.9 s\n",
      "CPU times: user 21min 6s, sys: 3.96 ms, total: 21min 6s\n",
      "Wall time: 1min 20s\n",
      "\t13\t0.9653\n",
      "CPU times: user 31.8 s, sys: 116 ms, total: 31.9 s\n",
      "Wall time: 31.9 s\n",
      "CPU times: user 21min 5s, sys: 12 ms, total: 21min 5s\n",
      "Wall time: 1min 20s\n",
      "\t14\t0.964\n",
      "CPU times: user 31.5 s, sys: 112 ms, total: 31.6 s\n",
      "Wall time: 31.6 s\n",
      "CPU times: user 21min 1s, sys: 7.98 ms, total: 21min 1s\n",
      "Wall time: 1min 20s\n",
      "\t15\t0.9633\n",
      "CPU times: user 31.4 s, sys: 176 ms, total: 31.6 s\n",
      "Wall time: 31.6 s\n",
      "CPU times: user 21min 2s, sys: 3.98 ms, total: 21min 2s\n",
      "Wall time: 1min 20s\n",
      "\t16\t0.9632\n",
      "CPU times: user 31.5 s, sys: 140 ms, total: 31.6 s\n",
      "Wall time: 31.6 s\n",
      "CPU times: user 21min, sys: 12 ms, total: 21min\n",
      "Wall time: 1min 19s\n",
      "\t17\t0.963\n",
      "CPU times: user 31.5 s, sys: 144 ms, total: 31.7 s\n",
      "Wall time: 31.6 s\n",
      "CPU times: user 21min, sys: 3.98 ms, total: 21min\n",
      "Wall time: 1min 19s\n",
      "\t18\t0.9633\n",
      "CPU times: user 31.6 s, sys: 120 ms, total: 31.7 s\n",
      "Wall time: 31.7 s\n",
      "CPU times: user 21min 1s, sys: 3.99 ms, total: 21min 1s\n",
      "Wall time: 1min 20s\n",
      "\t19\t0.9632\n",
      "CPU times: user 31.5 s, sys: 140 ms, total: 31.6 s\n",
      "Wall time: 31.6 s\n",
      "CPU times: user 21min 1s, sys: 0 ns, total: 21min 1s\n",
      "Wall time: 1min 19s\n",
      "\t20\t0.9625\n",
      "CPU times: user 31.6 s, sys: 132 ms, total: 31.7 s\n",
      "Wall time: 31.7 s\n",
      "CPU times: user 21min, sys: 2 µs, total: 21min\n",
      "Wall time: 1min 20s\n",
      "\t21\t0.963\n",
      "CPU times: user 31.8 s, sys: 124 ms, total: 31.9 s\n",
      "Wall time: 31.9 s\n",
      "CPU times: user 21min, sys: 7.98 ms, total: 21min\n",
      "Wall time: 1min 19s\n",
      "\t22\t0.9618\n",
      "CPU times: user 31.5 s, sys: 132 ms, total: 31.7 s\n",
      "Wall time: 31.6 s\n",
      "CPU times: user 21min 1s, sys: 3.97 ms, total: 21min 1s\n",
      "Wall time: 1min 20s\n",
      "\t23\t0.9619\n",
      "CPU times: user 31.5 s, sys: 128 ms, total: 31.6 s\n",
      "Wall time: 31.6 s\n",
      "CPU times: user 21min 1s, sys: 7.79 ms, total: 21min 1s\n",
      "Wall time: 1min 21s\n",
      "\t24\t0.9608\n"
     ]
    }
   ],
   "source": [
    "n = 25\n",
    "acc = np.zeros(n)\n",
    "\n",
    "for _ in range(1, n):\n",
    "    knnc = KNeighborsClassifier(n_jobs=-1, n_neighbors=_)\n",
    "    %time knnc.fit(lines_train, label_train)\n",
    "    %time preds_test = knnc.predict(lines_test)\n",
    "    acc_ = accuracy_score(label_test, preds_test)\n",
    "    print('\\t%s\\t%s' % (_, acc_))\n",
    "    acc[_] = acc_"
   ]
  },
  {
   "cell_type": "code",
   "execution_count": 27,
   "metadata": {
    "scrolled": false
   },
   "outputs": [
    {
     "data": {
      "text/plain": [
       "array([0.    , 0.9691, 0.9627, 0.9705, 0.9682, 0.9688, 0.9677, 0.9694,\n",
       "       0.967 , 0.9659, 0.9665, 0.9668, 0.9661, 0.9653, 0.964 , 0.9633,\n",
       "       0.9632, 0.963 , 0.9633, 0.9632, 0.9625, 0.963 , 0.9618, 0.9619,\n",
       "       0.9608])"
      ]
     },
     "execution_count": 27,
     "metadata": {},
     "output_type": "execute_result"
    }
   ],
   "source": [
    "acc"
   ]
  },
  {
   "cell_type": "code",
   "execution_count": null,
   "metadata": {},
   "outputs": [],
   "source": []
  },
  {
   "cell_type": "code",
   "execution_count": 32,
   "metadata": {},
   "outputs": [
    {
     "data": {
      "text/plain": [
       "array([0.9691, 0.9627, 0.9705, 0.9682, 0.9688, 0.9677, 0.9694, 0.967 ,\n",
       "       0.9659, 0.9665, 0.9668, 0.9661, 0.9653, 0.964 , 0.9633, 0.9632,\n",
       "       0.963 , 0.9633, 0.9632, 0.9625, 0.963 , 0.9618, 0.9619, 0.9608])"
      ]
     },
     "execution_count": 32,
     "metadata": {},
     "output_type": "execute_result"
    }
   ],
   "source": [
    "acc[1:]"
   ]
  },
  {
   "cell_type": "code",
   "execution_count": 33,
   "metadata": {},
   "outputs": [
    {
     "data": {
      "text/plain": [
       "[<matplotlib.lines.Line2D at 0x7fc7b1548160>]"
      ]
     },
     "execution_count": 33,
     "metadata": {},
     "output_type": "execute_result"
    },
    {
     "data": {
      "image/png": "[encoded data removed]",
      "text/plain": [
       "<Figure size 432x288 with 1 Axes>"
      ]
     },
     "metadata": {},
     "output_type": "display_data"
    }
   ],
   "source": [
    "pp.plot(range(1, n), acc[1:n])"
   ]
  },
  {
   "cell_type": "code",
   "execution_count": null,
   "metadata": {
    "scrolled": false
   },
   "outputs": [],
   "source": []
  },
  {
   "cell_type": "code",
   "execution_count": null,
   "metadata": {},
   "outputs": [],
   "source": []
  },
  {
   "cell_type": "code",
   "execution_count": null,
   "metadata": {},
   "outputs": [],
   "source": []
  },
  {
   "cell_type": "code",
   "execution_count": 74,
   "metadata": {},
   "outputs": [
    {
     "name": "stdout",
     "output_type": "stream",
     "text": [
      "CPU times: user 31.4 s, sys: 152 ms, total: 31.6 s\n",
      "Wall time: 31.5 s\n"
     ]
    },
    {
     "data": {
      "text/plain": [
       "KNeighborsClassifier(algorithm='auto', leaf_size=30, metric='minkowski',\n",
       "           metric_params=None, n_jobs=-1, n_neighbors=15, p=2,\n",
       "           weights='uniform')"
      ]
     },
     "execution_count": 74,
     "metadata": {},
     "output_type": "execute_result"
    }
   ],
   "source": [
    "knnc = KNeighborsClassifier(n_jobs=-1, n_neighbors=15)\n",
    "%time knnc.fit(lines_train, label_train)"
   ]
  },
  {
   "cell_type": "code",
   "execution_count": 75,
   "metadata": {},
   "outputs": [
    {
     "data": {
      "text/plain": [
       "array([7])"
      ]
     },
     "execution_count": 75,
     "metadata": {},
     "output_type": "execute_result"
    }
   ],
   "source": [
    "knnc.predict([lines_test[321]])"
   ]
  },
  {
   "cell_type": "code",
   "execution_count": 76,
   "metadata": {},
   "outputs": [
    {
     "data": {
      "text/plain": [
       "array([[0., 0., 0., 0., 0., 0., 0., 1., 0., 0.]])"
      ]
     },
     "execution_count": 76,
     "metadata": {},
     "output_type": "execute_result"
    }
   ],
   "source": [
    "knnc.predict_proba([lines_test[321]])"
   ]
  },
  {
   "cell_type": "code",
   "execution_count": 77,
   "metadata": {},
   "outputs": [
    {
     "data": {
      "text/plain": [
       "<matplotlib.image.AxesImage at 0x7fc79c0fd5c0>"
      ]
     },
     "execution_count": 77,
     "metadata": {},
     "output_type": "execute_result"
    },
    {
     "data": {
      "image/png": "[encoded data removed]",
      "text/plain": [
       "<Figure size 432x288 with 1 Axes>"
      ]
     },
     "metadata": {},
     "output_type": "display_data"
    }
   ],
   "source": [
    "pp.imshow(image_test[321], cmap='Greys')"
   ]
  },
  {
   "cell_type": "code",
   "execution_count": 78,
   "metadata": {},
   "outputs": [],
   "source": [
    "dists, neighs = knnc.kneighbors([lines_test[321]])"
   ]
  },
  {
   "cell_type": "code",
   "execution_count": 79,
   "metadata": {
    "scrolled": false
   },
   "outputs": [
    {
     "name": "stdout",
     "output_type": "stream",
     "text": [
      "7\n"
     ]
    },
    {
     "data": {
      "image/png": "[encoded data removed]",
      "text/plain": [
       "<Figure size 432x288 with 1 Axes>"
      ]
     },
     "metadata": {},
     "output_type": "display_data"
    },
    {
     "name": "stdout",
     "output_type": "stream",
     "text": [
      "7\n"
     ]
    },
    {
     "data": {
      "image/png": "[encoded data removed]",
      "text/plain": [
       "<Figure size 432x288 with 1 Axes>"
      ]
     },
     "metadata": {},
     "output_type": "display_data"
    },
    {
     "name": "stdout",
     "output_type": "stream",
     "text": [
      "7\n"
     ]
    },
    {
     "data": {
      "image/png": "[encoded data removed]",
      "text/plain": [
       "<Figure size 432x288 with 1 Axes>"
      ]
     },
     "metadata": {},
     "output_type": "display_data"
    },
    {
     "name": "stdout",
     "output_type": "stream",
     "text": [
      "7\n"
     ]
    },
    {
     "data": {
      "image/png": "[encoded data removed]",
      "text/plain": [
       "<Figure size 432x288 with 1 Axes>"
      ]
     },
     "metadata": {},
     "output_type": "display_data"
    },
    {
     "name": "stdout",
     "output_type": "stream",
     "text": [
      "7\n"
     ]
    },
    {
     "data": {
      "image/png": "[encoded data removed]",
      "text/plain": [
       "<Figure size 432x288 with 1 Axes>"
      ]
     },
     "metadata": {},
     "output_type": "display_data"
    },
    {
     "name": "stdout",
     "output_type": "stream",
     "text": [
      "7\n"
     ]
    },
    {
     "data": {
      "image/png": "[encoded data removed]",
      "text/plain": [
       "<Figure size 432x288 with 1 Axes>"
      ]
     },
     "metadata": {},
     "output_type": "display_data"
    },
    {
     "name": "stdout",
     "output_type": "stream",
     "text": [
      "7\n"
     ]
    },
    {
     "data": {
      "image/png": "[encoded data removed]",
      "text/plain": [
       "<Figure size 432x288 with 1 Axes>"
      ]
     },
     "metadata": {},
     "output_type": "display_data"
    },
    {
     "name": "stdout",
     "output_type": "stream",
     "text": [
      "7\n"
     ]
    },
    {
     "data": {
      "image/png": "[encoded data removed]",
      "text/plain": [
       "<Figure size 432x288 with 1 Axes>"
      ]
     },
     "metadata": {},
     "output_type": "display_data"
    },
    {
     "name": "stdout",
     "output_type": "stream",
     "text": [
      "7\n"
     ]
    },
    {
     "data": {
      "image/png": "[encoded data removed]",
      "text/plain": [
       "<Figure size 432x288 with 1 Axes>"
      ]
     },
     "metadata": {},
     "output_type": "display_data"
    },
    {
     "name": "stdout",
     "output_type": "stream",
     "text": [
      "7\n"
     ]
    },
    {
     "data": {
      "image/png": "[encoded data removed]",
      "text/plain": [
       "<Figure size 432x288 with 1 Axes>"
      ]
     },
     "metadata": {},
     "output_type": "display_data"
    },
    {
     "name": "stdout",
     "output_type": "stream",
     "text": [
      "7\n"
     ]
    },
    {
     "data": {
      "image/png": "[encoded data removed]",
      "text/plain": [
       "<Figure size 432x288 with 1 Axes>"
      ]
     },
     "metadata": {},
     "output_type": "display_data"
    },
    {
     "name": "stdout",
     "output_type": "stream",
     "text": [
      "7\n"
     ]
    },
    {
     "data": {
      "image/png": "[encoded data removed]",
      "text/plain": [
       "<Figure size 432x288 with 1 Axes>"
      ]
     },
     "metadata": {},
     "output_type": "display_data"
    },
    {
     "name": "stdout",
     "output_type": "stream",
     "text": [
      "7\n"
     ]
    },
    {
     "data": {
      "image/png": "[encoded data removed]",
      "text/plain": [
       "<Figure size 432x288 with 1 Axes>"
      ]
     },
     "metadata": {},
     "output_type": "display_data"
    },
    {
     "name": "stdout",
     "output_type": "stream",
     "text": [
      "7\n"
     ]
    },
    {
     "data": {
      "image/png": "[encoded data removed]",
      "text/plain": [
       "<Figure size 432x288 with 1 Axes>"
      ]
     },
     "metadata": {},
     "output_type": "display_data"
    },
    {
     "name": "stdout",
     "output_type": "stream",
     "text": [
      "7\n"
     ]
    },
    {
     "data": {
      "image/png": "[encoded data removed]",
      "text/plain": [
       "<Figure size 432x288 with 1 Axes>"
      ]
     },
     "metadata": {},
     "output_type": "display_data"
    }
   ],
   "source": [
    "for dist, neigh in zip(dists[0], neighs[0]):\n",
    "    print(label_train[neigh])\n",
    "    pp.imshow(image_train[neigh], cmap='Greys')\n",
    "    pp.show()"
   ]
  },
  {
   "cell_type": "code",
   "execution_count": null,
   "metadata": {},
   "outputs": [],
   "source": []
  },
  {
   "cell_type": "code",
   "execution_count": null,
   "metadata": {},
   "outputs": [],
   "source": []
  },
  {
   "cell_type": "code",
   "execution_count": null,
   "metadata": {},
   "outputs": [],
   "source": []
  }
 ],
 "metadata": {
  "kernelspec": {
   "display_name": "conda_python3",
   "language": "python",
   "name": "conda_python3"
  },
  "language_info": {
   "codemirror_mode": {
    "name": "ipython",
    "version": 3
   },
   "file_extension": ".py",
   "mimetype": "text/x-python",
   "name": "python",
   "nbconvert_exporter": "python",
   "pygments_lexer": "ipython3",
   "version": "3.6.5"
  }
 },
 "nbformat": 4,
 "nbformat_minor": 2
}
